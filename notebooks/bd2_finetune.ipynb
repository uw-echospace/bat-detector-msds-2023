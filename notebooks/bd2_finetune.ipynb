{
 "cells": [
  {
   "cell_type": "code",
   "execution_count": 1,
   "metadata": {},
   "outputs": [],
   "source": [
    "import sys\n",
    "from pathlib import Path\n",
    "\n",
    "# append the path of the\n",
    "# parent directory\n",
    "sys.path.append('..')\n",
    "sys.path.append('../src/')\n",
    "sys.path.append('../src/models/bat_call_detector/batdetect2/')\n",
    "\n",
    "import src.models.bat_call_detector.batdetect2 as bt2"
   ]
  },
  {
   "cell_type": "markdown",
   "metadata": {},
   "source": [
    "### Annotate calls\n",
    "- not sure how Mila annotate all the calls\n",
    "- With .csv annotated files provided, we transform it into json format for future finetuning process"
   ]
  },
  {
   "cell_type": "markdown",
   "metadata": {},
   "source": [
    "### Split data into train and test sets\n",
    "\n",
    "- The next step is to split these into training and testing subsets.\n",
    "Run ``prep_data_finetune.py`` to split the data into train and test sets. This will result in two separate files, a train and a test one, i.e.\n",
    "``python prep_data_finetune.py dataset_name path_to_audio/ path_to_annotations/ path_to_output_anns/``\n",
    "This may result an error if it does not generate output files containing the same set of species in the train and test splits. You can try different random seeds if this is an issue e.g. ``--rand_seed 123456``."
   ]
  },
  {
   "cell_type": "code",
   "execution_count": 15,
   "metadata": {},
   "outputs": [
    {
     "data": {
      "text/plain": [
       "'\\n    python3 prep_data_finetune.py dataset_name \\n    /Users/jennywong/Local_Files/UW/courses/capstone/working_git/bat-detector-msds-2023/src/example_data/audio/ \\n    /Users/jennywong/Local_Files/UW/courses/capstone/working_git/bat-detector-msds-2023/src/example_data/anns/ \\n    /Users/jennywong/Local_Files/UW/courses/capstone/working_git/bat-detector-msds-2023/src/example_data/output_anns/ \\n    --rand_seed 123 \\n    --input_class_names \"Myotis mystacinus;Rhinolophus ferrumequinum;Eptesicus serotinus\" \\n    --output_class_names \"Bat;Bat;Bat\"\\n\\n'"
      ]
     },
     "execution_count": 15,
     "metadata": {},
     "output_type": "execute_result"
    }
   ],
   "source": [
    "# run this in command line to produce train and test splits:\n",
    "\"\"\"\n",
    "python3 prep_data_finetune.py dataset_name  ../../../../../../../data/audio/ ../../../../../../../data/anns/  ../../../../../../../data/output_anns/  --rand_seed 123\n",
    "\"\"\""
   ]
  },
  {
   "cell_type": "markdown",
   "metadata": {},
   "source": [
    "### Fine Tune the Model"
   ]
  },
  {
   "cell_type": "code",
   "execution_count": null,
   "metadata": {},
   "outputs": [],
   "source": [
    "# run this in command line:\n",
    "\"\"\"\n",
    "python3 finetune_model.py ../../../../../../../data/audio/ ../../../../../../../data/output_anns/dataset_name_TRAIN.json ../../../../../../../data/output_anns/dataset_name_TEST.json ../../models/Net2DFast_UK_same.pth.tar\n",
    "\n",
    "\"\"\""
   ]
  },
  {
   "cell_type": "markdown",
   "metadata": {},
   "source": [
    "### Load and Run Finetuned Model"
   ]
  },
  {
   "cell_type": "code",
   "execution_count": 4,
   "metadata": {},
   "outputs": [],
   "source": [
    "\n",
    "import models.bat_call_detector.batdetect2.bat_detect.utils.detector_utils as du\n",
    "\n",
    "model_path = \"../src/models/bat_call_detector/batdetect2/experiments/2024_01_28__18_21_57/2024_01_28__18_21_57.pth.tar\"\n",
    "model, params_train = du.load_model(model_path, True)\n",
    "\n",
    "input_file = Path('../../Downloads/ubna_data_02/recover-20230809/UBNA_001/20230806_043000.WAV')\n"
   ]
  },
  {
   "cell_type": "code",
   "execution_count": null,
   "metadata": {},
   "outputs": [],
   "source": [
    "from cfg import get_config\n",
    "\n",
    "cfg = get_config()\n",
    "cfg['input_audio'] = input_file\n",
    "cfg['tmp_dir'] = Path('../test_output')\n",
    "cfg['output_dir'] = Path('../test_output_dir')\n",
    "cfg['run_model'] = True\n",
    "cfg['should_csv'] = False\n",
    "cfg['save'] = True\n",
    "\n",
    "batdetect2_pipeline.run_pipeline_on_file(input_file, cfg)"
   ]
  },
  {
   "cell_type": "code",
   "execution_count": 6,
   "metadata": {},
   "outputs": [
    {
     "data": {
      "text/plain": [
       "{'model_name': 'Net2DFast',\n",
       " 'num_filters': 128,\n",
       " 'experiment': '../../experiments/2024_01_28__18_21_57/',\n",
       " 'model_file_name': '../../experiments/2024_01_28__18_21_57/2024_01_28__18_21_57.pth.tar',\n",
       " 'op_im_dir': '../../experiments/2024_01_28__18_21_57/op_ims/',\n",
       " 'op_im_dir_test': '../../experiments/2024_01_28__18_21_57/op_ims_test/',\n",
       " 'target_samp_rate': 256000,\n",
       " 'fft_win_length': 0.002,\n",
       " 'fft_overlap': 0.75,\n",
       " 'max_freq': 120000,\n",
       " 'min_freq': 10000,\n",
       " 'resize_factor': 0.5,\n",
       " 'spec_height': 256,\n",
       " 'spec_train_width': 512,\n",
       " 'spec_divide_factor': 32,\n",
       " 'denoise_spec_avg': True,\n",
       " 'scale_raw_audio': False,\n",
       " 'max_scale_spec': False,\n",
       " 'spec_scale': 'pcen',\n",
       " 'detection_overlap': 0.01,\n",
       " 'ignore_start_end': 0.01,\n",
       " 'detection_threshold': 0.01,\n",
       " 'nms_kernel_size': 9,\n",
       " 'nms_top_k_per_sec': 200,\n",
       " 'target_sigma': 2.0,\n",
       " 'aug_prob': 0.2,\n",
       " 'augment_at_train': True,\n",
       " 'augment_at_train_combine': True,\n",
       " 'echo_max_delay': 0.005,\n",
       " 'stretch_squeeze_delta': 0.04,\n",
       " 'mask_max_time_perc': 0.05,\n",
       " 'mask_max_freq_perc': 0.1,\n",
       " 'spec_amp_scaling': 2.0,\n",
       " 'aug_sampling_rates': [220500,\n",
       "  256000,\n",
       "  300000,\n",
       "  312500,\n",
       "  384000,\n",
       "  441000,\n",
       "  500000],\n",
       " 'train_loss': 'focal',\n",
       " 'det_loss_weight': 1.0,\n",
       " 'size_loss_weight': 0.1,\n",
       " 'class_loss_weight': 2.0,\n",
       " 'individual_loss_weight': 0.0,\n",
       " 'emb_dim': 0,\n",
       " 'lr': 0.001,\n",
       " 'batch_size': 8,\n",
       " 'num_workers': 4,\n",
       " 'num_epochs': 200,\n",
       " 'num_eval_epochs': 5,\n",
       " 'device': device(type='cpu'),\n",
       " 'save_test_image_during_train': False,\n",
       " 'save_test_image_after_train': True,\n",
       " 'convert_to_genus': False,\n",
       " 'genus_mapping': [0],\n",
       " 'class_names': ['Bat'],\n",
       " 'classes_to_ignore': ['', ' ', 'Unknown', 'Not Bat'],\n",
       " 'generic_class': [],\n",
       " 'events_of_interest': ['Echolocation'],\n",
       " 'standardize_classs_names': [],\n",
       " 'notes': '',\n",
       " 'train_sets': [{'dataset_name': 'dataset_name',\n",
       "   'is_test': False,\n",
       "   'is_binary': False,\n",
       "   'ann_path': 'dataset_name_TRAIN.json',\n",
       "   'wav_path': '../../../../../example_data/audio/'}],\n",
       " 'class_inv_freq': [1.0],\n",
       " 'genus_names': ['Bat'],\n",
       " 'class_names_short': ['Bat'],\n",
       " 'test_sets': [{'dataset_name': 'dataset_name',\n",
       "   'is_test': True,\n",
       "   'is_binary': False,\n",
       "   'ann_path': 'dataset_name_TEST.json',\n",
       "   'wav_path': '../../../../../example_data/audio/'}],\n",
       " 'ip_height': 128}"
      ]
     },
     "execution_count": 6,
     "metadata": {},
     "output_type": "execute_result"
    }
   ],
   "source": [
    "params_train"
   ]
  },
  {
   "cell_type": "code",
   "execution_count": null,
   "metadata": {},
   "outputs": [],
   "source": []
  }
 ],
 "metadata": {
  "kernelspec": {
   "display_name": "Python 3 (ipykernel)",
   "language": "python",
   "name": "python3"
  },
  "language_info": {
   "codemirror_mode": {
    "name": "ipython",
    "version": 3
   },
   "file_extension": ".py",
   "mimetype": "text/x-python",
   "name": "python",
   "nbconvert_exporter": "python",
   "pygments_lexer": "ipython3",
   "version": "3.9.13"
  }
 },
 "nbformat": 4,
 "nbformat_minor": 2
}
